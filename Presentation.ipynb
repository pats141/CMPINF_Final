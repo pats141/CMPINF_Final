{
 "cells": [
  {
   "cell_type": "markdown",
   "metadata": {},
   "source": [
    "# CMPINF Final Project\n",
    "## Evan Tall, Jerry Huang, Hailey Trampel\n",
    "\n",
    "## How we ranked 'bestness':\n",
    "* How **safe** the neighborhood is\n",
    "* How many **hospitals** the neighborhood has\n",
    "* How many **bridges** the neighborhood has "
   ]
  },
  {
   "cell_type": "code",
   "execution_count": 14,
   "metadata": {},
   "outputs": [],
   "source": [
    "import pandas as pd\n",
    "import numpy as np\n",
    "import ssl"
   ]
  },
  {
   "cell_type": "markdown",
   "metadata": {},
   "source": [
    "## Analyzing how safe the neighborhoods are\n",
    "First, we imported the data for Pittsburgh Area arrests, as reported by the Pittsburgh Police."
   ]
  },
  {
   "cell_type": "code",
   "execution_count": 18,
   "metadata": {},
   "outputs": [
    {
     "data": {
      "text/plain": [
       "Mt. Oliver Neighborhood     2\n",
       "Troy Hill-Herrs Island      6\n",
       "Mt. Oliver Boro            12\n",
       "Ridgemont                  13\n",
       "Regent Square              19\n",
       "Swisshelm Park             20\n",
       "New Homestead              22\n",
       "Central Northside          23\n",
       "Chartiers City             23\n",
       "East Carnegie              27\n",
       "Name: INCIDENTNEIGHBORHOOD, dtype: int64"
      ]
     },
     "execution_count": 18,
     "metadata": {},
     "output_type": "execute_result"
    }
   ],
   "source": [
    "pgh_crime_data = pd.read_csv(\"crime_data.csv\")\n",
    "pgh_crime_data[\"INCIDENTNEIGHBORHOOD\"].value_counts().sort_values(ascending=True).head(10)"
   ]
  },
  {
   "cell_type": "code",
   "execution_count": 19,
   "metadata": {},
   "outputs": [
    {
     "data": {
      "text/plain": [
       "Central Business District    2131\n",
       "South Side Flats             1953\n",
       "Carrick                      1313\n",
       "East Allegheny               1235\n",
       "Homewood South               1138\n",
       "Homewood North               1036\n",
       "East Liberty                  995\n",
       "Marshall-Shadeland            853\n",
       "Mount Washington              838\n",
       "Bluff                         783\n",
       "Name: INCIDENTNEIGHBORHOOD, dtype: int64"
      ]
     },
     "execution_count": 19,
     "metadata": {},
     "output_type": "execute_result"
    }
   ],
   "source": [
    "pgh_crime_data[\"INCIDENTNEIGHBORHOOD\"].value_counts().head(10)"
   ]
  },
  {
   "cell_type": "code",
   "execution_count": 53,
   "metadata": {},
   "outputs": [
    {
     "data": {
      "text/html": [
       "<div>\n",
       "<style scoped>\n",
       "    .dataframe tbody tr th:only-of-type {\n",
       "        vertical-align: middle;\n",
       "    }\n",
       "\n",
       "    .dataframe tbody tr th {\n",
       "        vertical-align: top;\n",
       "    }\n",
       "\n",
       "    .dataframe thead th {\n",
       "        text-align: right;\n",
       "    }\n",
       "</style>\n",
       "<table border=\"1\" class=\"dataframe\">\n",
       "  <thead>\n",
       "    <tr style=\"text-align: right;\">\n",
       "      <th></th>\n",
       "      <th>Neighborhood</th>\n",
       "      <th>#Part 1 (Major Crime) Reports (2010)</th>\n",
       "    </tr>\n",
       "  </thead>\n",
       "  <tbody>\n",
       "    <tr>\n",
       "      <th>31</th>\n",
       "      <td>Fairywood</td>\n",
       "      <td>3</td>\n",
       "    </tr>\n",
       "    <tr>\n",
       "      <th>54</th>\n",
       "      <td>New Homestead</td>\n",
       "      <td>7</td>\n",
       "    </tr>\n",
       "    <tr>\n",
       "      <th>20</th>\n",
       "      <td>Chartiers City</td>\n",
       "      <td>9</td>\n",
       "    </tr>\n",
       "    <tr>\n",
       "      <th>26</th>\n",
       "      <td>East Carnegie</td>\n",
       "      <td>9</td>\n",
       "    </tr>\n",
       "    <tr>\n",
       "      <th>35</th>\n",
       "      <td>Glen Hazel</td>\n",
       "      <td>10</td>\n",
       "    </tr>\n",
       "    <tr>\n",
       "      <th>53</th>\n",
       "      <td>Mt. Oliver</td>\n",
       "      <td>12</td>\n",
       "    </tr>\n",
       "    <tr>\n",
       "      <th>80</th>\n",
       "      <td>Summer Hill</td>\n",
       "      <td>13</td>\n",
       "    </tr>\n",
       "    <tr>\n",
       "      <th>58</th>\n",
       "      <td>Oakwood</td>\n",
       "      <td>14</td>\n",
       "    </tr>\n",
       "    <tr>\n",
       "      <th>77</th>\n",
       "      <td>St. Clair</td>\n",
       "      <td>14</td>\n",
       "    </tr>\n",
       "    <tr>\n",
       "      <th>66</th>\n",
       "      <td>Ridgemont</td>\n",
       "      <td>14</td>\n",
       "    </tr>\n",
       "  </tbody>\n",
       "</table>\n",
       "</div>"
      ],
      "text/plain": [
       "      Neighborhood  #Part 1 (Major Crime) Reports (2010)\n",
       "31       Fairywood                                     3\n",
       "54   New Homestead                                     7\n",
       "20  Chartiers City                                     9\n",
       "26   East Carnegie                                     9\n",
       "35      Glen Hazel                                    10\n",
       "53      Mt. Oliver                                    12\n",
       "80     Summer Hill                                    13\n",
       "58         Oakwood                                    14\n",
       "77       St. Clair                                    14\n",
       "66       Ridgemont                                    14"
      ]
     },
     "execution_count": 53,
     "metadata": {},
     "output_type": "execute_result"
    }
   ],
   "source": [
    "public_safety_data = pd.read_csv('public_safety_data.csv')\n",
    "tempt=public_safety_data.sort_values(by = '#Part 1 (Major Crime) Reports (2010)', ascending=True)\n",
    "tempt[['Neighborhood','#Part 1 (Major Crime) Reports (2010)']].head(10)"
   ]
  },
  {
   "cell_type": "code",
   "execution_count": null,
   "metadata": {},
   "outputs": [],
   "source": []
  },
  {
   "cell_type": "code",
   "execution_count": 4,
   "metadata": {},
   "outputs": [
    {
     "data": {
      "text/plain": [
       "Allegheny Center         1\n",
       "Brookline                1\n",
       "Marshall-Shadeland       1\n",
       "Hazelwood                1\n",
       "South Side Flats         1\n",
       "Central Northside        1\n",
       "Westwood                 1\n",
       "Glen Hazel               1\n",
       "Spring Hill-City View    1\n",
       "South Side Slopes        1\n",
       "Name: Neighborhood, dtype: int64"
      ]
     },
     "execution_count": 4,
     "metadata": {},
     "output_type": "execute_result"
    }
   ],
   "source": [
    "pgh_safety_data[\"Neighborhood\"].value_counts().head(10)"
   ]
  },
  {
   "cell_type": "markdown",
   "metadata": {},
   "source": [
    "## Counting the number of bridges per region"
   ]
  },
  {
   "cell_type": "code",
   "execution_count": 21,
   "metadata": {},
   "outputs": [
    {
     "data": {
      "text/plain": [
       "Squirrel Hill South          15\n",
       "Shadyside                     7\n",
       "Troy Hill                     7\n",
       "Central Business District     6\n",
       "Hays                          5\n",
       "South Side Flats              5\n",
       "Overbrook                     5\n",
       "South Side Slopes             5\n",
       "Oakwood                       5\n",
       "Hazelwood                     5\n",
       "Name: neighborhood, dtype: int64"
      ]
     },
     "execution_count": 21,
     "metadata": {},
     "output_type": "execute_result"
    }
   ],
   "source": [
    "pgh_bridge_data = pd.read_csv(\"bridge_data.csv\")\n",
    "pgh_bridge_data[\"neighborhood\"].value_counts().head(10)\n",
    "pgh_bridge_data[\"neighborhood\"].value_counts()"
   ]
  },
  {
   "cell_type": "code",
   "execution_count": null,
   "metadata": {},
   "outputs": [],
   "source": []
  }
 ],
 "metadata": {
  "kernelspec": {
   "display_name": "Python 3.7",
   "language": "python",
   "name": "python3"
  },
  "language_info": {
   "codemirror_mode": {
    "name": "ipython",
    "version": 3
   },
   "file_extension": ".py",
   "mimetype": "text/x-python",
   "name": "python",
   "nbconvert_exporter": "python",
   "pygments_lexer": "ipython3",
   "version": "3.7.0"
  }
 },
 "nbformat": 4,
 "nbformat_minor": 4
}
