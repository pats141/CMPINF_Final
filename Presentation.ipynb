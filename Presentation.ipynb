{
 "cells": [
  {
   "cell_type": "markdown",
   "metadata": {},
   "source": [
    "# CMPINF Final Project\n",
    "## Evan Tall, Jerry Huang, Hailey Trampel\n",
    "\n",
    "## How we ranked 'bestness':\n",
    "* How **safe** the neighborhood is\n",
    "* How many **hospitals** the neighborhood has\n",
    "* How many **bridges** the neighborhood has "
   ]
  },
  {
   "cell_type": "code",
   "execution_count": 2,
   "metadata": {},
   "outputs": [],
   "source": [
    "import pandas as pd\n",
    "import numpy as np\n",
    "import ssl"
   ]
  },
  {
   "cell_type": "markdown",
   "metadata": {},
   "source": [
    "## Analyzing how safe the neighborhoods are\n",
    "First, we imported the data for Pittsburgh Area arrests, as reported by the Pittsburgh Police."
   ]
  },
  {
   "cell_type": "code",
   "execution_count": 18,
   "metadata": {},
   "outputs": [
    {
     "data": {
      "text/plain": [
       "Mt. Oliver Neighborhood     2\n",
       "Troy Hill-Herrs Island      6\n",
       "Mt. Oliver Boro            12\n",
       "Ridgemont                  13\n",
       "Regent Square              19\n",
       "Swisshelm Park             20\n",
       "New Homestead              22\n",
       "Central Northside          23\n",
       "Chartiers City             23\n",
       "East Carnegie              27\n",
       "Name: INCIDENTNEIGHBORHOOD, dtype: int64"
      ]
     },
     "execution_count": 18,
     "metadata": {},
     "output_type": "execute_result"
    }
   ],
   "source": [
    "pgh_crime_data = pd.read_csv(\"crime_data.csv\")\n",
    "pgh_crime_data[\"INCIDENTNEIGHBORHOOD\"].value_counts().sort_values(ascending=True).head(10)"
   ]
  },
  {
   "cell_type": "code",
   "execution_count": 19,
   "metadata": {},
   "outputs": [
    {
     "data": {
      "text/plain": [
       "Central Business District    2131\n",
       "South Side Flats             1953\n",
       "Carrick                      1313\n",
       "East Allegheny               1235\n",
       "Homewood South               1138\n",
       "Homewood North               1036\n",
       "East Liberty                  995\n",
       "Marshall-Shadeland            853\n",
       "Mount Washington              838\n",
       "Bluff                         783\n",
       "Name: INCIDENTNEIGHBORHOOD, dtype: int64"
      ]
     },
     "execution_count": 19,
     "metadata": {},
     "output_type": "execute_result"
    }
   ],
   "source": [
    "pgh_crime_data[\"INCIDENTNEIGHBORHOOD\"].value_counts().head(10)"
   ]
  },
  {
   "cell_type": "code",
   "execution_count": 9,
   "metadata": {},
   "outputs": [
    {
     "data": {
      "text/html": [
       "<div>\n",
       "<style scoped>\n",
       "    .dataframe tbody tr th:only-of-type {\n",
       "        vertical-align: middle;\n",
       "    }\n",
       "\n",
       "    .dataframe tbody tr th {\n",
       "        vertical-align: top;\n",
       "    }\n",
       "\n",
       "    .dataframe thead th {\n",
       "        text-align: right;\n",
       "    }\n",
       "</style>\n",
       "<table border=\"1\" class=\"dataframe\">\n",
       "  <thead>\n",
       "    <tr style=\"text-align: right;\">\n",
       "      <th></th>\n",
       "      <th>Neighborhood</th>\n",
       "      <th>Sector #</th>\n",
       "      <th>Population (2010)</th>\n",
       "      <th>#Part 1 (Major Crime) Reports (2010)</th>\n",
       "      <th>#Part 2 Reports (2010)</th>\n",
       "      <th>#Other Police Reports (2010)</th>\n",
       "      <th>Part 1 Crime per 100 Persons (2010)</th>\n",
       "      <th>Part 2 Crime per 100 Persons (2010)</th>\n",
       "      <th>#Murder (2010)</th>\n",
       "      <th>#Rape (2010)</th>\n",
       "      <th>#Robbery (2010)</th>\n",
       "      <th>#Agr. Assault (2010)</th>\n",
       "      <th>#Burglary (2010)</th>\n",
       "      <th>#Auto Theft (2010)</th>\n",
       "      <th>#Drug Violations (2010)</th>\n",
       "    </tr>\n",
       "  </thead>\n",
       "  <tbody>\n",
       "    <tr>\n",
       "      <th>0</th>\n",
       "      <td>Allegheny Center</td>\n",
       "      <td>3</td>\n",
       "      <td>933</td>\n",
       "      <td>71</td>\n",
       "      <td>141</td>\n",
       "      <td>46</td>\n",
       "      <td>7.6</td>\n",
       "      <td>15.1</td>\n",
       "      <td>0</td>\n",
       "      <td>2</td>\n",
       "      <td>9</td>\n",
       "      <td>5</td>\n",
       "      <td>8</td>\n",
       "      <td>5</td>\n",
       "      <td>31</td>\n",
       "    </tr>\n",
       "    <tr>\n",
       "      <th>1</th>\n",
       "      <td>Allegheny West</td>\n",
       "      <td>3</td>\n",
       "      <td>462</td>\n",
       "      <td>38</td>\n",
       "      <td>49</td>\n",
       "      <td>31</td>\n",
       "      <td>8.2</td>\n",
       "      <td>10.6</td>\n",
       "      <td>1</td>\n",
       "      <td>0</td>\n",
       "      <td>4</td>\n",
       "      <td>6</td>\n",
       "      <td>6</td>\n",
       "      <td>4</td>\n",
       "      <td>12</td>\n",
       "    </tr>\n",
       "    <tr>\n",
       "      <th>2</th>\n",
       "      <td>Allentown</td>\n",
       "      <td>6</td>\n",
       "      <td>2,500</td>\n",
       "      <td>159</td>\n",
       "      <td>252</td>\n",
       "      <td>160</td>\n",
       "      <td>6.4</td>\n",
       "      <td>10.1</td>\n",
       "      <td>0</td>\n",
       "      <td>2</td>\n",
       "      <td>15</td>\n",
       "      <td>23</td>\n",
       "      <td>48</td>\n",
       "      <td>11</td>\n",
       "      <td>66</td>\n",
       "    </tr>\n",
       "    <tr>\n",
       "      <th>3</th>\n",
       "      <td>Arlington</td>\n",
       "      <td>7</td>\n",
       "      <td>1,869</td>\n",
       "      <td>50</td>\n",
       "      <td>84</td>\n",
       "      <td>48</td>\n",
       "      <td>2.7</td>\n",
       "      <td>4.5</td>\n",
       "      <td>0</td>\n",
       "      <td>1</td>\n",
       "      <td>8</td>\n",
       "      <td>5</td>\n",
       "      <td>15</td>\n",
       "      <td>7</td>\n",
       "      <td>9</td>\n",
       "    </tr>\n",
       "    <tr>\n",
       "      <th>4</th>\n",
       "      <td>Arlington Heights</td>\n",
       "      <td>7</td>\n",
       "      <td>244</td>\n",
       "      <td>19</td>\n",
       "      <td>37</td>\n",
       "      <td>24</td>\n",
       "      <td>7.8</td>\n",
       "      <td>15.2</td>\n",
       "      <td>0</td>\n",
       "      <td>0</td>\n",
       "      <td>4</td>\n",
       "      <td>5</td>\n",
       "      <td>5</td>\n",
       "      <td>3</td>\n",
       "      <td>7</td>\n",
       "    </tr>\n",
       "  </tbody>\n",
       "</table>\n",
       "</div>"
      ],
      "text/plain": [
       "        Neighborhood  Sector # Population (2010)  \\\n",
       "0   Allegheny Center         3               933   \n",
       "1     Allegheny West         3               462   \n",
       "2          Allentown         6             2,500   \n",
       "3          Arlington         7             1,869   \n",
       "4  Arlington Heights         7               244   \n",
       "\n",
       "   #Part 1 (Major Crime) Reports (2010)  #Part 2 Reports (2010)  \\\n",
       "0                                    71                     141   \n",
       "1                                    38                      49   \n",
       "2                                   159                     252   \n",
       "3                                    50                      84   \n",
       "4                                    19                      37   \n",
       "\n",
       "   #Other Police Reports (2010)  Part 1 Crime per 100 Persons (2010)  \\\n",
       "0                            46                                  7.6   \n",
       "1                            31                                  8.2   \n",
       "2                           160                                  6.4   \n",
       "3                            48                                  2.7   \n",
       "4                            24                                  7.8   \n",
       "\n",
       "   Part 2 Crime per 100 Persons (2010)  #Murder (2010)  #Rape (2010)  \\\n",
       "0                                 15.1               0             2   \n",
       "1                                 10.6               1             0   \n",
       "2                                 10.1               0             2   \n",
       "3                                  4.5               0             1   \n",
       "4                                 15.2               0             0   \n",
       "\n",
       "   #Robbery (2010)  #Agr. Assault (2010)  #Burglary (2010)  \\\n",
       "0                9                     5                 8   \n",
       "1                4                     6                 6   \n",
       "2               15                    23                48   \n",
       "3                8                     5                15   \n",
       "4                4                     5                 5   \n",
       "\n",
       "   #Auto Theft (2010)  #Drug Violations (2010)  \n",
       "0                   5                       31  \n",
       "1                   4                       12  \n",
       "2                  11                       66  \n",
       "3                   7                        9  \n",
       "4                   3                        7  "
      ]
     },
     "execution_count": 9,
     "metadata": {},
     "output_type": "execute_result"
    }
   ],
   "source": [
    "pgh_safety_data = pd.read_csv(\"public_safety_data.csv\")\n",
    "pgh_safety_data.head()"
   ]
  },
  {
   "cell_type": "markdown",
   "metadata": {},
   "source": [
    "## Counting the number of bridges per region"
   ]
  },
  {
   "cell_type": "code",
   "execution_count": 21,
   "metadata": {},
   "outputs": [
    {
     "data": {
      "text/plain": [
       "Squirrel Hill South          15\n",
       "Shadyside                     7\n",
       "Troy Hill                     7\n",
       "Central Business District     6\n",
       "Hays                          5\n",
       "South Side Flats              5\n",
       "Overbrook                     5\n",
       "South Side Slopes             5\n",
       "Oakwood                       5\n",
       "Hazelwood                     5\n",
       "Name: neighborhood, dtype: int64"
      ]
     },
     "execution_count": 21,
     "metadata": {},
     "output_type": "execute_result"
    }
   ],
   "source": [
    "pgh_bridge_data = pd.read_csv(\"bridge_data.csv\")\n",
    "pgh_bridge_data[\"neighborhood\"].value_counts().head(10)\n",
    "pgh_bridge_data[\"neighborhood\"].value_counts()"
   ]
  },
  {
   "cell_type": "code",
   "execution_count": null,
   "metadata": {},
   "outputs": [],
   "source": []
  }
 ],
 "metadata": {
  "kernelspec": {
   "display_name": "Python 3.7",
   "language": "python",
   "name": "python3"
  },
  "language_info": {
   "codemirror_mode": {
    "name": "ipython",
    "version": 3
   },
   "file_extension": ".py",
   "mimetype": "text/x-python",
   "name": "python",
   "nbconvert_exporter": "python",
   "pygments_lexer": "ipython3",
   "version": "3.7.0"
  }
 },
 "nbformat": 4,
 "nbformat_minor": 4
}
