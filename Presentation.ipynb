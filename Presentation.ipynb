{
 "cells": [
  {
   "cell_type": "markdown",
   "metadata": {},
   "source": [
    "# CMPINF Final Project\n",
    "## Evan Tall, Jerry Huang, Hailey Trampel\n",
    "\n",
    "## How we ranked 'bestness':\n",
    "* How **safe** the neighborhood is\n",
    "* How many **hospitals** the neighborhood has\n",
    "* How many **bridges** the neighborhood has \n",
    "\n"
   ]
  },
  {
   "cell_type": "code",
   "execution_count": 2,
   "metadata": {},
   "outputs": [],
   "source": [
    "import pandas as pd\n",
    "import numpy as np\n",
    "import ssl"
   ]
  },
  {
   "cell_type": "markdown",
   "metadata": {},
   "source": [
    "## Analyzing how safe the neighborhoods are\n",
    "First, we imported the data for Pittsburgh Area arrests, as reported by the Pittsburgh Police."
   ]
  },
  {
   "cell_type": "code",
   "execution_count": 3,
   "metadata": {},
   "outputs": [
    {
     "data": {
      "text/plain": [
       "Mt. Oliver Neighborhood     2\n",
       "Troy Hill-Herrs Island      6\n",
       "Mt. Oliver Boro            12\n",
       "Ridgemont                  13\n",
       "Regent Square              19\n",
       "Swisshelm Park             20\n",
       "New Homestead              22\n",
       "Central Northside          23\n",
       "Chartiers City             23\n",
       "East Carnegie              27\n",
       "St. Clair                  30\n",
       "Outside County             36\n",
       "Outside State              39\n",
       "Oakwood                    44\n",
       "Summer Hill                45\n",
       "Windgap                    60\n",
       "Hays                       62\n",
       "Fairywood                  62\n",
       "Glen Hazel                 69\n",
       "Allegheny West             75\n",
       "Name: INCIDENTNEIGHBORHOOD, dtype: int64"
      ]
     },
     "execution_count": 3,
     "metadata": {},
     "output_type": "execute_result"
    }
   ],
   "source": [
    "pgh_crime_data = pd.read_csv(\"crime_data.csv\")\n",
    "pgh_crime_data[\"INCIDENTNEIGHBORHOOD\"].value_counts().sort_values(ascending=True).head(20)"
   ]
  },
  {
   "cell_type": "code",
   "execution_count": 4,
   "metadata": {},
   "outputs": [
    {
     "data": {
      "text/plain": [
       "Central Business District    2131\n",
       "South Side Flats             1953\n",
       "Carrick                      1313\n",
       "East Allegheny               1235\n",
       "Homewood South               1138\n",
       "Homewood North               1036\n",
       "East Liberty                  995\n",
       "Marshall-Shadeland            853\n",
       "Mount Washington              838\n",
       "Bluff                         783\n",
       "Knoxville                     752\n",
       "Hazelwood                     706\n",
       "Lincoln-Lemington-Belmar      697\n",
       "Brookline                     693\n",
       "Beechview                     686\n",
       "Sheraden                      660\n",
       "Allegheny Center              651\n",
       "Perry South                   637\n",
       "Brighton Heights              612\n",
       "East Hills                    580\n",
       "Name: INCIDENTNEIGHBORHOOD, dtype: int64"
      ]
     },
     "execution_count": 4,
     "metadata": {},
     "output_type": "execute_result"
    }
   ],
   "source": [
    "pgh_crime_data[\"INCIDENTNEIGHBORHOOD\"].value_counts().head(20)"
   ]
  },
  {
   "cell_type": "code",
   "execution_count": 8,
   "metadata": {},
   "outputs": [
    {
     "data": {
      "text/html": [
       "<div>\n",
       "<style scoped>\n",
       "    .dataframe tbody tr th:only-of-type {\n",
       "        vertical-align: middle;\n",
       "    }\n",
       "\n",
       "    .dataframe tbody tr th {\n",
       "        vertical-align: top;\n",
       "    }\n",
       "\n",
       "    .dataframe thead th {\n",
       "        text-align: right;\n",
       "    }\n",
       "</style>\n",
       "<table border=\"1\" class=\"dataframe\">\n",
       "  <thead>\n",
       "    <tr style=\"text-align: right;\">\n",
       "      <th></th>\n",
       "      <th>Neighborhood</th>\n",
       "      <th>Part 1 Crime per 100 Persons (2010)</th>\n",
       "    </tr>\n",
       "  </thead>\n",
       "  <tbody>\n",
       "    <tr>\n",
       "      <th>31</th>\n",
       "      <td>Fairywood</td>\n",
       "      <td>0.3</td>\n",
       "    </tr>\n",
       "    <tr>\n",
       "      <th>54</th>\n",
       "      <td>New Homestead</td>\n",
       "      <td>0.7</td>\n",
       "    </tr>\n",
       "    <tr>\n",
       "      <th>45</th>\n",
       "      <td>Lincoln Place</td>\n",
       "      <td>1.0</td>\n",
       "    </tr>\n",
       "    <tr>\n",
       "      <th>80</th>\n",
       "      <td>Summer Hill</td>\n",
       "      <td>1.2</td>\n",
       "    </tr>\n",
       "    <tr>\n",
       "      <th>75</th>\n",
       "      <td>Squirrel Hill North</td>\n",
       "      <td>1.3</td>\n",
       "    </tr>\n",
       "    <tr>\n",
       "      <th>58</th>\n",
       "      <td>Oakwood</td>\n",
       "      <td>1.4</td>\n",
       "    </tr>\n",
       "    <tr>\n",
       "      <th>35</th>\n",
       "      <td>Glen Hazel</td>\n",
       "      <td>1.4</td>\n",
       "    </tr>\n",
       "    <tr>\n",
       "      <th>78</th>\n",
       "      <td>Stanton Heights</td>\n",
       "      <td>1.5</td>\n",
       "    </tr>\n",
       "    <tr>\n",
       "      <th>5</th>\n",
       "      <td>Banksville</td>\n",
       "      <td>1.5</td>\n",
       "    </tr>\n",
       "    <tr>\n",
       "      <th>10</th>\n",
       "      <td>Bluff</td>\n",
       "      <td>1.6</td>\n",
       "    </tr>\n",
       "    <tr>\n",
       "      <th>26</th>\n",
       "      <td>East Carnegie</td>\n",
       "      <td>1.6</td>\n",
       "    </tr>\n",
       "    <tr>\n",
       "      <th>55</th>\n",
       "      <td>North Oakland</td>\n",
       "      <td>1.7</td>\n",
       "    </tr>\n",
       "    <tr>\n",
       "      <th>13</th>\n",
       "      <td>Brookline</td>\n",
       "      <td>1.8</td>\n",
       "    </tr>\n",
       "    <tr>\n",
       "      <th>20</th>\n",
       "      <td>Chartiers City</td>\n",
       "      <td>1.9</td>\n",
       "    </tr>\n",
       "    <tr>\n",
       "      <th>88</th>\n",
       "      <td>Westwood</td>\n",
       "      <td>1.9</td>\n",
       "    </tr>\n",
       "    <tr>\n",
       "      <th>51</th>\n",
       "      <td>Morningside</td>\n",
       "      <td>2.0</td>\n",
       "    </tr>\n",
       "    <tr>\n",
       "      <th>59</th>\n",
       "      <td>Overbrook</td>\n",
       "      <td>2.0</td>\n",
       "    </tr>\n",
       "    <tr>\n",
       "      <th>36</th>\n",
       "      <td>Greenfield</td>\n",
       "      <td>2.0</td>\n",
       "    </tr>\n",
       "    <tr>\n",
       "      <th>81</th>\n",
       "      <td>Swisshelm Park</td>\n",
       "      <td>2.1</td>\n",
       "    </tr>\n",
       "    <tr>\n",
       "      <th>76</th>\n",
       "      <td>Squirrel Hill South</td>\n",
       "      <td>2.2</td>\n",
       "    </tr>\n",
       "  </tbody>\n",
       "</table>\n",
       "</div>"
      ],
      "text/plain": [
       "           Neighborhood  Part 1 Crime per 100 Persons (2010)\n",
       "31            Fairywood                                  0.3\n",
       "54        New Homestead                                  0.7\n",
       "45        Lincoln Place                                  1.0\n",
       "80          Summer Hill                                  1.2\n",
       "75  Squirrel Hill North                                  1.3\n",
       "58              Oakwood                                  1.4\n",
       "35           Glen Hazel                                  1.4\n",
       "78      Stanton Heights                                  1.5\n",
       "5            Banksville                                  1.5\n",
       "10                Bluff                                  1.6\n",
       "26        East Carnegie                                  1.6\n",
       "55        North Oakland                                  1.7\n",
       "13            Brookline                                  1.8\n",
       "20       Chartiers City                                  1.9\n",
       "88             Westwood                                  1.9\n",
       "51          Morningside                                  2.0\n",
       "59            Overbrook                                  2.0\n",
       "36           Greenfield                                  2.0\n",
       "81       Swisshelm Park                                  2.1\n",
       "76  Squirrel Hill South                                  2.2"
      ]
     },
     "execution_count": 8,
     "metadata": {},
     "output_type": "execute_result"
    }
   ],
   "source": [
    "public_safety_data = pd.read_csv('public_safety_data.csv')\n",
    "tempt=public_safety_data.sort_values(by = 'Part 1 Crime per 100 Persons (2010)', ascending=True)\n",
    "tempt[['Neighborhood','Part 1 Crime per 100 Persons (2010)']].head(20)"
   ]
  },
  {
   "cell_type": "code",
   "execution_count": null,
   "metadata": {},
   "outputs": [],
   "source": []
  },
  {
   "cell_type": "code",
   "execution_count": 10,
   "metadata": {},
   "outputs": [
    {
     "data": {
      "text/plain": [
       "East Carnegie         1\n",
       "Esplen                1\n",
       "Sheraden              1\n",
       "South Side Slopes     1\n",
       "West Oakland          1\n",
       "Point Breeze          1\n",
       "Fineview              1\n",
       "East Liberty          1\n",
       "Summer Hill           1\n",
       "Swisshelm Park        1\n",
       "North Oakland         1\n",
       "Duquesne Heights      1\n",
       "Central Oakland       1\n",
       "Arlington Heights     1\n",
       "Garfield              1\n",
       "Point Breeze North    1\n",
       "Stanton Heights       1\n",
       "Banksville            1\n",
       "Knoxville             1\n",
       "Hays                  1\n",
       "Name: Neighborhood, dtype: int64"
      ]
     },
     "execution_count": 10,
     "metadata": {},
     "output_type": "execute_result"
    }
   ],
   "source": [
    "public_safety_data[\"Neighborhood\"].value_counts().head(20)"
   ]
  },
  {
   "cell_type": "markdown",
   "metadata": {},
   "source": [
    "## Counting the number of bridges per region"
   ]
  },
  {
   "cell_type": "code",
   "execution_count": 12,
   "metadata": {},
   "outputs": [
    {
     "data": {
      "text/plain": [
       "Squirrel Hill South          15\n",
       "Troy Hill                     7\n",
       "Shadyside                     7\n",
       "Central Business District     6\n",
       "South Side Flats              5\n",
       "Hays                          5\n",
       "Overbrook                     5\n",
       "Oakwood                       5\n",
       "South Side Slopes             5\n",
       "Hazelwood                     5\n",
       "East Allegheny                4\n",
       "West End                      4\n",
       "Larimer                       3\n",
       "Polish Hill                   3\n",
       "Allegheny West                3\n",
       "Sheraden                      3\n",
       "Mount Washington              3\n",
       "Bon Air                       3\n",
       "South Oakland                 3\n",
       "Bluff                         2\n",
       "East Liberty                  2\n",
       "Marshall-Shadeland            2\n",
       "Lower Lawrenceville           2\n",
       "Northview Heights             2\n",
       "Brighton Heights              2\n",
       "Arlington                     2\n",
       "Perry South                   2\n",
       "Highland Park                 2\n",
       "Central Oakland               2\n",
       "Allegheny Center              2\n",
       "Windgap                       2\n",
       "Greenfield                    2\n",
       "Lincoln-Lemington-Belmar      2\n",
       "Strip District                1\n",
       "Central Northside             1\n",
       "Homewood South                1\n",
       "Esplen                        1\n",
       "Spring Hill-City View         1\n",
       "Elliott                       1\n",
       "Swisshelm Park                1\n",
       "Squirrel Hill North           1\n",
       "Banksville                    1\n",
       "South Shore                   1\n",
       "Manchester                    1\n",
       "Brookline                     1\n",
       "Allentown                     1\n",
       "Bloomfield                    1\n",
       "Regent Square                 1\n",
       "Beechview                     1\n",
       "Name: neighborhood, dtype: int64"
      ]
     },
     "execution_count": 12,
     "metadata": {},
     "output_type": "execute_result"
    }
   ],
   "source": [
    "pgh_bridge_data = pd.read_csv(\"bridge_data.csv\")\n",
    "pgh_bridge_data[\"neighborhood\"].value_counts().head(20)\n",
    "pgh_bridge_data[\"neighborhood\"].value_counts()"
   ]
  },
  {
   "cell_type": "code",
   "execution_count": null,
   "metadata": {},
   "outputs": [],
   "source": []
  }
 ],
 "metadata": {
  "kernelspec": {
   "display_name": "Python 3.7",
   "language": "python",
   "name": "python3"
  },
  "language_info": {
   "codemirror_mode": {
    "name": "ipython",
    "version": 3
   },
   "file_extension": ".py",
   "mimetype": "text/x-python",
   "name": "python",
   "nbconvert_exporter": "python",
   "pygments_lexer": "ipython3",
   "version": "3.7.0"
  }
 },
 "nbformat": 4,
 "nbformat_minor": 4
}
